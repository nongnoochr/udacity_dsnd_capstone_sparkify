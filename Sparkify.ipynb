{
 "cells": [
  {
   "cell_type": "markdown",
   "metadata": {},
   "source": [
    "# Sparkify Project Workspace\n",
    "This workspace contains a tiny subset (128MB) of the full dataset available (12GB). Feel free to use this workspace to build your project, or to explore a smaller subset with Spark before deploying your cluster on the cloud. Instructions for setting up your Spark cluster is included in the last lesson of the Extracurricular Spark Course content.\n",
    "\n",
    "You can follow the steps below to guide your data analysis and model building portion of this project."
   ]
  },
  {
   "cell_type": "code",
   "execution_count": 19,
   "metadata": {},
   "outputs": [],
   "source": [
    "# import libraries\n",
    "from pyspark.sql import SparkSession, Window\n",
    "from pyspark.sql.functions import avg, col, desc, min, max, udf\n",
    "from pyspark.sql.functions import sum as Fsum\n",
    "from pyspark.sql.types import IntegerType, StringType, FloatType\n",
    "\n",
    "from pyspark.ml import Pipeline\n",
    "from pyspark.ml.classification import LogisticRegression, RandomForestClassifier, GBTClassifier\n",
    "from pyspark.ml.feature import StringIndexerModel, VectorAssembler, StandardScaler\n",
    "from pyspark.ml.evaluation import BinaryClassificationEvaluator\n",
    "from pyspark.ml.tuning import CrossValidator, ParamGridBuilder\n",
    "\n",
    "import datetime\n",
    "\n",
    "import pandas as pd\n",
    "import seaborn as sns\n",
    "import matplotlib.pyplot as plt\n",
    "\n",
    "%matplotlib inline\n"
   ]
  },
  {
   "cell_type": "code",
   "execution_count": 20,
   "metadata": {},
   "outputs": [],
   "source": [
    "# create a Spark session locally\n",
    "\n",
    "spark = SparkSession.builder \\\n",
    "    .master('local') \\\n",
    "    .appName('Churn Prediction') \\\n",
    "    .getOrCreate()"
   ]
  },
  {
   "cell_type": "markdown",
   "metadata": {},
   "source": [
    "# Load and Clean Dataset\n",
    "Clean your dataset, checking for invalid or missing data. For example, records without userids or sessionids. In this workspace, the filename is `mini_sparkify_event_data.json`."
   ]
  },
  {
   "cell_type": "code",
   "execution_count": 21,
   "metadata": {},
   "outputs": [],
   "source": [
    "event_data = 'mini_sparkify_event_data.json'"
   ]
  },
  {
   "cell_type": "code",
   "execution_count": 22,
   "metadata": {},
   "outputs": [],
   "source": [
    "df = spark.read.json(event_data)"
   ]
  },
  {
   "cell_type": "code",
   "execution_count": 23,
   "metadata": {},
   "outputs": [
    {
     "data": {
      "text/plain": [
       "Row(artist='Martha Tilston', auth='Logged In', firstName='Colin', gender='M', itemInSession=50, lastName='Freeman', length=277.89016, level='paid', location='Bakersfield, CA', method='PUT', page='NextSong', registration=1538173362000, sessionId=29, song='Rockpools', status=200, ts=1538352117000, userAgent='Mozilla/5.0 (Windows NT 6.1; WOW64; rv:31.0) Gecko/20100101 Firefox/31.0', userId='30')"
      ]
     },
     "execution_count": 23,
     "metadata": {},
     "output_type": "execute_result"
    }
   ],
   "source": [
    "# Inspect the data \n",
    "df.head()"
   ]
  },
  {
   "cell_type": "code",
   "execution_count": 24,
   "metadata": {},
   "outputs": [
    {
     "name": "stdout",
     "output_type": "stream",
     "text": [
      "root\n",
      " |-- artist: string (nullable = true)\n",
      " |-- auth: string (nullable = true)\n",
      " |-- firstName: string (nullable = true)\n",
      " |-- gender: string (nullable = true)\n",
      " |-- itemInSession: long (nullable = true)\n",
      " |-- lastName: string (nullable = true)\n",
      " |-- length: double (nullable = true)\n",
      " |-- level: string (nullable = true)\n",
      " |-- location: string (nullable = true)\n",
      " |-- method: string (nullable = true)\n",
      " |-- page: string (nullable = true)\n",
      " |-- registration: long (nullable = true)\n",
      " |-- sessionId: long (nullable = true)\n",
      " |-- song: string (nullable = true)\n",
      " |-- status: long (nullable = true)\n",
      " |-- ts: long (nullable = true)\n",
      " |-- userAgent: string (nullable = true)\n",
      " |-- userId: string (nullable = true)\n",
      "\n"
     ]
    }
   ],
   "source": [
    "# Inspect the schema\n",
    "df.printSchema()"
   ]
  },
  {
   "cell_type": "code",
   "execution_count": 25,
   "metadata": {},
   "outputs": [
    {
     "data": {
      "text/plain": [
       "286500"
      ]
     },
     "execution_count": 25,
     "metadata": {},
     "output_type": "execute_result"
    }
   ],
   "source": [
    "# Find a total number of rows\n",
    "df.count()"
   ]
  },
  {
   "cell_type": "code",
   "execution_count": 26,
   "metadata": {},
   "outputs": [
    {
     "name": "stdout",
     "output_type": "stream",
     "text": [
      "+-------+------------------+----------+---------+------+------------------+--------+-----------------+------+-----------------+------+-------+--------------------+-----------------+--------------------+------------------+--------------------+--------------------+-----------------+\n",
      "|summary|            artist|      auth|firstName|gender|     itemInSession|lastName|           length| level|         location|method|   page|        registration|        sessionId|                song|            status|                  ts|           userAgent|           userId|\n",
      "+-------+------------------+----------+---------+------+------------------+--------+-----------------+------+-----------------+------+-------+--------------------+-----------------+--------------------+------------------+--------------------+--------------------+-----------------+\n",
      "|  count|            228108|    286500|   278154|278154|            286500|  278154|           228108|286500|           278154|286500| 286500|              278154|           286500|              228108|            286500|              286500|              278154|           286500|\n",
      "|   mean| 551.0852017937219|      null|     null|  null|114.41421291448516|    null|249.1171819778458|  null|             null|  null|   null|1.535358834084427...|1041.526554973822|            Infinity|210.05459685863875|1.540956889810483...|                null|59682.02278593872|\n",
      "| stddev|1217.7693079161374|      null|     null|  null|129.76726201140994|    null|99.23517921058361|  null|             null|  null|   null| 3.291321616327586E9|726.7762634630741|                 NaN| 31.50507848842214|1.5075439608226302E9|                null|109091.9499991047|\n",
      "|    min|               !!!| Cancelled| Adelaida|     F|                 0|   Adams|          0.78322|  free|       Albany, OR|   GET|  About|       1521380675000|                1|\u001c",
      "ÃÂg ÃÂtti Gr...|               200|       1538352117000|\"Mozilla/5.0 (Mac...|                 |\n",
      "|    max| ÃÂlafur Arnalds|Logged Out|   Zyonna|     M|              1321|  Wright|       3024.66567|  paid|Winston-Salem, NC|   PUT|Upgrade|       1543247354000|             2474|ÃÂau hafa slopp...|               404|       1543799476000|Mozilla/5.0 (comp...|               99|\n",
      "+-------+------------------+----------+---------+------+------------------+--------+-----------------+------+-----------------+------+-------+--------------------+-----------------+--------------------+------------------+--------------------+--------------------+-----------------+\n",
      "\n"
     ]
    }
   ],
   "source": [
    "# Find the statistics\n",
    "df.describe().show()"
   ]
  },
  {
   "cell_type": "code",
   "execution_count": 27,
   "metadata": {},
   "outputs": [
    {
     "name": "stdout",
     "output_type": "stream",
     "text": [
      "-RECORD 0---------------\n",
      " summary       | count  \n",
      " artist        | 228108 \n",
      " auth          | 286500 \n",
      " firstName     | 278154 \n",
      " gender        | 278154 \n",
      " itemInSession | 286500 \n",
      " lastName      | 278154 \n",
      " length        | 228108 \n",
      " level         | 286500 \n",
      " location      | 278154 \n",
      " method        | 286500 \n",
      " page          | 286500 \n",
      " registration  | 278154 \n",
      " sessionId     | 286500 \n",
      " song          | 228108 \n",
      " status        | 286500 \n",
      " ts            | 286500 \n",
      " userAgent     | 278154 \n",
      " userId        | 286500 \n",
      "only showing top 1 row\n",
      "\n"
     ]
    }
   ],
   "source": [
    "# Look atcounts of each column\n",
    "df.describe().show(1, vertical=True)"
   ]
  },
  {
   "cell_type": "code",
   "execution_count": 28,
   "metadata": {},
   "outputs": [
    {
     "name": "stdout",
     "output_type": "stream",
     "text": [
      "+------+\n",
      "|userId|\n",
      "+------+\n",
      "|      |\n",
      "|    10|\n",
      "|   100|\n",
      "|100001|\n",
      "|100002|\n",
      "|100003|\n",
      "|100004|\n",
      "|100005|\n",
      "|100006|\n",
      "|100007|\n",
      "|100008|\n",
      "|100009|\n",
      "|100010|\n",
      "|100011|\n",
      "|100012|\n",
      "|100013|\n",
      "|100014|\n",
      "|100015|\n",
      "|100016|\n",
      "|100017|\n",
      "+------+\n",
      "only showing top 20 rows\n",
      "\n"
     ]
    }
   ],
   "source": [
    "# Inspect unique available userIds\n",
    "df.select('userId').dropDuplicates().sort('userId').show()"
   ]
  },
  {
   "cell_type": "code",
   "execution_count": 29,
   "metadata": {},
   "outputs": [
    {
     "name": "stdout",
     "output_type": "stream",
     "text": [
      "+------+-----+\n",
      "|userId|count|\n",
      "+------+-----+\n",
      "|      | 8346|\n",
      "|    10|  795|\n",
      "|   100| 3214|\n",
      "|100001|  187|\n",
      "|100002|  218|\n",
      "|100003|   78|\n",
      "|100004| 1245|\n",
      "|100005|  216|\n",
      "|100006|   44|\n",
      "|100007|  520|\n",
      "|100008|  940|\n",
      "|100009|  671|\n",
      "|100010|  381|\n",
      "|100011|   23|\n",
      "|100012|  600|\n",
      "|100013| 1392|\n",
      "|100014|  310|\n",
      "|100015| 1050|\n",
      "|100016|  638|\n",
      "|100017|   75|\n",
      "+------+-----+\n",
      "only showing top 20 rows\n",
      "\n"
     ]
    }
   ],
   "source": [
    "df.select('userId').groupby(df.userId).count().sort('userId').show()"
   ]
  },
  {
   "cell_type": "code",
   "execution_count": 30,
   "metadata": {},
   "outputs": [],
   "source": [
    "# Drop missing values in the userId columns\n",
    "df_valid = df.filter(df.userId != '')"
   ]
  },
  {
   "cell_type": "code",
   "execution_count": 31,
   "metadata": {},
   "outputs": [
    {
     "name": "stdout",
     "output_type": "stream",
     "text": [
      "-RECORD 0---------------\n",
      " summary       | count  \n",
      " artist        | 228108 \n",
      " auth          | 278154 \n",
      " firstName     | 278154 \n",
      " gender        | 278154 \n",
      " itemInSession | 278154 \n",
      " lastName      | 278154 \n",
      " length        | 228108 \n",
      " level         | 278154 \n",
      " location      | 278154 \n",
      " method        | 278154 \n",
      " page          | 278154 \n",
      " registration  | 278154 \n",
      " sessionId     | 278154 \n",
      " song          | 228108 \n",
      " status        | 278154 \n",
      " ts            | 278154 \n",
      " userAgent     | 278154 \n",
      " userId        | 278154 \n",
      "only showing top 1 row\n",
      "\n"
     ]
    }
   ],
   "source": [
    "# Inspect the counts of each column again\n",
    "df_valid.describe().show(1, vertical=True)"
   ]
  },
  {
   "cell_type": "markdown",
   "metadata": {},
   "source": [
    "# Exploratory Data Analysis\n",
    "When you're working with the full dataset, perform EDA by loading a small subset of the data and doing basic manipulations within Spark. In this workspace, you are already provided a small subset of data you can explore.\n",
    "\n",
    "### Define Churn\n",
    "\n",
    "Once you've done some preliminary analysis, create a column `Churn` to use as the label for your model. I suggest using the `Cancellation Confirmation` events to define your churn, which happen for both paid and free users. As a bonus task, you can also look into the `Downgrade` events.\n",
    "\n",
    "### Explore Data\n",
    "Once you've defined churn, perform some exploratory data analysis to observe the behavior for users who stayed vs users who churned. You can start by exploring aggregates on these two groups of users, observing how much of a specific action they experienced per a certain time unit or number of songs played."
   ]
  },
  {
   "cell_type": "code",
   "execution_count": 32,
   "metadata": {},
   "outputs": [],
   "source": [
    "# Create a udf function to identify churn by flagging an event \n",
    "# with the \"Cancellation Confirmation\" page\n",
    "\n",
    "is_churned = udf(lambda x: 1 if x == \"Cancellation Confirmation\" else 0, IntegerType())\n"
   ]
  },
  {
   "cell_type": "code",
   "execution_count": 33,
   "metadata": {},
   "outputs": [],
   "source": [
    "# Add a new column 'isChurned' by passing a value in the 'page' column to the udf function\n",
    "# created above (is_churned)\n",
    "df_valid = df_valid.withColumn('isChurned', is_churned(\"page\"))"
   ]
  },
  {
   "cell_type": "code",
   "execution_count": 34,
   "metadata": {},
   "outputs": [
    {
     "data": {
      "text/plain": [
       "Row(artist='Martha Tilston', auth='Logged In', firstName='Colin', gender='M', itemInSession=50, lastName='Freeman', length=277.89016, level='paid', location='Bakersfield, CA', method='PUT', page='NextSong', registration=1538173362000, sessionId=29, song='Rockpools', status=200, ts=1538352117000, userAgent='Mozilla/5.0 (Windows NT 6.1; WOW64; rv:31.0) Gecko/20100101 Firefox/31.0', userId='30', isChurned=0)"
      ]
     },
     "execution_count": 34,
     "metadata": {},
     "output_type": "execute_result"
    }
   ],
   "source": [
    "# Then, inspect the data\n",
    "df_valid.head()"
   ]
  },
  {
   "cell_type": "code",
   "execution_count": 35,
   "metadata": {},
   "outputs": [],
   "source": [
    "# Then, Identify events of users who are churned by \n",
    "# 1. Create a window object partitioned by a userId, ordered descendingly by a timestamp 'ts'\n",
    "# 2. Then, utilize the pyspark.sql.functions.sum function (Fsum) to perform an accumulate sum\n",
    "# within a window and assign its value to a new column 'willBeChurned'\n",
    "# 3. With the steps above, events with users who are churned \n",
    "\n",
    "windowval = Window.partitionBy(\"userId\") \\\n",
    "                .orderBy(desc(\"ts\")) \\\n",
    "                .rangeBetween(Window.unboundedPreceding, 0)\n",
    "\n",
    "df_valid = df_valid.withColumn(\"willBeChurned\", Fsum(\"isChurned\").over(windowval))\n"
   ]
  },
  {
   "cell_type": "code",
   "execution_count": 36,
   "metadata": {},
   "outputs": [],
   "source": [
    "# Create a datetime to help with the analysis\n",
    "get_datetime = udf(lambda x: datetime.datetime.fromtimestamp(x / 1000.0).strftime(\"%Y-%m-%d %H:%M:%S\"))\n",
    "df_valid = df_valid.withColumn('datetime', get_datetime(df_valid.ts))\n"
   ]
  },
  {
   "cell_type": "code",
   "execution_count": 37,
   "metadata": {},
   "outputs": [
    {
     "name": "stdout",
     "output_type": "stream",
     "text": [
      "+------+-------------------+--------------------+-----+-------------+\n",
      "|userId|           datetime|                page|level|willBeChurned|\n",
      "+------+-------------------+--------------------+-----+-------------+\n",
      "|   125|2018-10-12 00:35:18|              Cancel| free|            1|\n",
      "|   125|2018-10-12 00:35:18|Cancellation Conf...| free|            1|\n",
      "|   125|2018-10-12 00:35:17|         Roll Advert| free|            1|\n",
      "|   125|2018-10-12 00:35:06|            NextSong| free|            1|\n",
      "|   125|2018-10-12 00:32:08|            NextSong| free|            1|\n",
      "|   125|2018-10-12 00:28:35|            NextSong| free|            1|\n",
      "|   125|2018-10-12 00:22:04|            NextSong| free|            1|\n",
      "|   125|2018-10-12 00:18:34|            NextSong| free|            1|\n",
      "|   125|2018-10-12 00:15:11|            NextSong| free|            1|\n",
      "|   125|2018-10-12 00:11:21|            NextSong| free|            1|\n",
      "|   125|2018-10-12 00:05:44|            NextSong| free|            1|\n",
      "|    51|2018-10-17 03:39:32|Cancellation Conf...| paid|            1|\n",
      "|    51|2018-10-17 03:37:10|              Cancel| paid|            1|\n",
      "|    51|2018-10-17 03:37:09|            Settings| paid|            1|\n",
      "|    51|2018-10-17 03:35:26|            NextSong| paid|            1|\n",
      "|    51|2018-10-17 03:31:48|            NextSong| paid|            1|\n",
      "|    51|2018-10-17 03:27:49|            NextSong| paid|            1|\n",
      "|    51|2018-10-17 03:23:50|            NextSong| paid|            1|\n",
      "|    51|2018-10-17 03:20:49|            NextSong| paid|            1|\n",
      "|    51|2018-10-17 03:15:49|            NextSong| paid|            1|\n",
      "+------+-------------------+--------------------+-----+-------------+\n",
      "only showing top 20 rows\n",
      "\n"
     ]
    }
   ],
   "source": [
    "# Inspect the value\n",
    "df_valid.filter('willBeChurned == 1') \\\n",
    "    .select('userId', 'datetime', 'page', 'level', 'willBeChurned') \\\n",
    "    .show()"
   ]
  },
  {
   "cell_type": "markdown",
   "metadata": {},
   "source": [
    "### Compare page counts of events with and without churns"
   ]
  },
  {
   "cell_type": "markdown",
   "metadata": {},
   "source": [
    "The comparison plot between a percentage of each page for churned and not churned users below shows that the page of most events are 'NextPage' and the plot does not show much difference for each page type"
   ]
  },
  {
   "cell_type": "code",
   "execution_count": 38,
   "metadata": {},
   "outputs": [],
   "source": [
    "# Get page count of events with and without churns\n",
    "df_churn_page = df_valid.groupby('willBeChurned', 'page') \\\n",
    "    .count() \\\n",
    "    .orderBy(desc('willBeChurned'), desc('count'))"
   ]
  },
  {
   "cell_type": "code",
   "execution_count": 39,
   "metadata": {},
   "outputs": [
    {
     "name": "stdout",
     "output_type": "stream",
     "text": [
      "+-------------+--------------------+------+\n",
      "|willBeChurned|                page| count|\n",
      "+-------------+--------------------+------+\n",
      "|            1|            NextSong| 36394|\n",
      "|            1|           Thumbs Up|  1859|\n",
      "|            1|                Home|  1672|\n",
      "|            1|     Add to Playlist|  1038|\n",
      "|            1|         Roll Advert|   967|\n",
      "|            1|          Add Friend|   636|\n",
      "|            1|              Logout|   553|\n",
      "|            1|         Thumbs Down|   496|\n",
      "|            1|           Downgrade|   337|\n",
      "|            1|            Settings|   270|\n",
      "|            1|                Help|   239|\n",
      "|            1|             Upgrade|   112|\n",
      "|            1|       Save Settings|    58|\n",
      "|            1|               About|    56|\n",
      "|            1|              Cancel|    52|\n",
      "|            1|Cancellation Conf...|    52|\n",
      "|            1|      Submit Upgrade|    32|\n",
      "|            1|               Error|    32|\n",
      "|            1|    Submit Downgrade|     9|\n",
      "|            0|            NextSong|191714|\n",
      "|            0|           Thumbs Up| 10692|\n",
      "|            0|                Home|  8410|\n",
      "|            0|     Add to Playlist|  5488|\n",
      "|            0|          Add Friend|  3641|\n",
      "|            0|         Roll Advert|  2966|\n",
      "|            0|              Logout|  2673|\n",
      "|            0|         Thumbs Down|  2050|\n",
      "|            0|           Downgrade|  1718|\n",
      "|            0|            Settings|  1244|\n",
      "|            0|                Help|  1215|\n",
      "|            0|               About|   439|\n",
      "|            0|             Upgrade|   387|\n",
      "|            0|       Save Settings|   252|\n",
      "|            0|               Error|   220|\n",
      "|            0|      Submit Upgrade|   127|\n",
      "|            0|    Submit Downgrade|    54|\n",
      "+-------------+--------------------+------+\n",
      "\n"
     ]
    }
   ],
   "source": [
    "# And inspect the raw data\n",
    "df_churn_page.show(50)"
   ]
  },
  {
   "cell_type": "code",
   "execution_count": 40,
   "metadata": {},
   "outputs": [],
   "source": [
    "# Visualize the results by converting data to pandas first\n",
    "pd_churn_page = df_churn_page.toPandas()"
   ]
  },
  {
   "cell_type": "code",
   "execution_count": 41,
   "metadata": {},
   "outputs": [
    {
     "data": {
      "text/plain": [
       "willBeChurned\n",
       "0    233290\n",
       "1     44864\n",
       "Name: count, dtype: int64"
      ]
     },
     "execution_count": 41,
     "metadata": {},
     "output_type": "execute_result"
    }
   ],
   "source": [
    "# Then, find a total counts of each type\n",
    "total_churn_page = pd_churn_page.groupby('willBeChurned')['count'].sum()\n",
    "total_churn_page"
   ]
  },
  {
   "cell_type": "code",
   "execution_count": 42,
   "metadata": {},
   "outputs": [],
   "source": [
    "# Then, create a new column called 'percentage' to store a percentage number of each page count\n",
    "def get_page_count_percentage(row):\n",
    "    return (row['count'] / total_churn_page[row['willBeChurned']])*100\n",
    "\n",
    "pd_churn_page['percentage'] = pd_churn_page.apply(lambda row: get_page_count_percentage(row), axis=1)"
   ]
  },
  {
   "cell_type": "code",
   "execution_count": 43,
   "metadata": {},
   "outputs": [
    {
     "data": {
      "text/html": [
       "<div>\n",
       "<style scoped>\n",
       "    .dataframe tbody tr th:only-of-type {\n",
       "        vertical-align: middle;\n",
       "    }\n",
       "\n",
       "    .dataframe tbody tr th {\n",
       "        vertical-align: top;\n",
       "    }\n",
       "\n",
       "    .dataframe thead th {\n",
       "        text-align: right;\n",
       "    }\n",
       "</style>\n",
       "<table border=\"1\" class=\"dataframe\">\n",
       "  <thead>\n",
       "    <tr style=\"text-align: right;\">\n",
       "      <th>page</th>\n",
       "      <th>About</th>\n",
       "      <th>Add Friend</th>\n",
       "      <th>Add to Playlist</th>\n",
       "      <th>Cancel</th>\n",
       "      <th>Cancellation Confirmation</th>\n",
       "      <th>Downgrade</th>\n",
       "      <th>Error</th>\n",
       "      <th>Help</th>\n",
       "      <th>Home</th>\n",
       "      <th>Logout</th>\n",
       "      <th>NextSong</th>\n",
       "      <th>Roll Advert</th>\n",
       "      <th>Save Settings</th>\n",
       "      <th>Settings</th>\n",
       "      <th>Submit Downgrade</th>\n",
       "      <th>Submit Upgrade</th>\n",
       "      <th>Thumbs Down</th>\n",
       "      <th>Thumbs Up</th>\n",
       "      <th>Upgrade</th>\n",
       "    </tr>\n",
       "    <tr>\n",
       "      <th>willBeChurned</th>\n",
       "      <th></th>\n",
       "      <th></th>\n",
       "      <th></th>\n",
       "      <th></th>\n",
       "      <th></th>\n",
       "      <th></th>\n",
       "      <th></th>\n",
       "      <th></th>\n",
       "      <th></th>\n",
       "      <th></th>\n",
       "      <th></th>\n",
       "      <th></th>\n",
       "      <th></th>\n",
       "      <th></th>\n",
       "      <th></th>\n",
       "      <th></th>\n",
       "      <th></th>\n",
       "      <th></th>\n",
       "      <th></th>\n",
       "    </tr>\n",
       "  </thead>\n",
       "  <tbody>\n",
       "    <tr>\n",
       "      <th>0</th>\n",
       "      <td>0.188178</td>\n",
       "      <td>1.560718</td>\n",
       "      <td>2.352437</td>\n",
       "      <td>NaN</td>\n",
       "      <td>NaN</td>\n",
       "      <td>0.736422</td>\n",
       "      <td>0.094303</td>\n",
       "      <td>0.520811</td>\n",
       "      <td>3.604955</td>\n",
       "      <td>1.145784</td>\n",
       "      <td>82.178405</td>\n",
       "      <td>1.271379</td>\n",
       "      <td>0.10802</td>\n",
       "      <td>0.533242</td>\n",
       "      <td>0.023147</td>\n",
       "      <td>0.054439</td>\n",
       "      <td>0.878735</td>\n",
       "      <td>4.583137</td>\n",
       "      <td>0.165888</td>\n",
       "    </tr>\n",
       "    <tr>\n",
       "      <th>1</th>\n",
       "      <td>0.124822</td>\n",
       "      <td>1.417618</td>\n",
       "      <td>2.313659</td>\n",
       "      <td>0.115906</td>\n",
       "      <td>0.115906</td>\n",
       "      <td>0.751159</td>\n",
       "      <td>0.071327</td>\n",
       "      <td>0.532721</td>\n",
       "      <td>3.726819</td>\n",
       "      <td>1.232614</td>\n",
       "      <td>81.120720</td>\n",
       "      <td>2.155403</td>\n",
       "      <td>0.12928</td>\n",
       "      <td>0.601819</td>\n",
       "      <td>0.020061</td>\n",
       "      <td>0.071327</td>\n",
       "      <td>1.105563</td>\n",
       "      <td>4.143634</td>\n",
       "      <td>0.249643</td>\n",
       "    </tr>\n",
       "  </tbody>\n",
       "</table>\n",
       "</div>"
      ],
      "text/plain": [
       "page              About  Add Friend  Add to Playlist    Cancel  \\\n",
       "willBeChurned                                                    \n",
       "0              0.188178    1.560718         2.352437       NaN   \n",
       "1              0.124822    1.417618         2.313659  0.115906   \n",
       "\n",
       "page           Cancellation Confirmation  Downgrade     Error      Help  \\\n",
       "willBeChurned                                                             \n",
       "0                                    NaN   0.736422  0.094303  0.520811   \n",
       "1                               0.115906   0.751159  0.071327  0.532721   \n",
       "\n",
       "page               Home    Logout   NextSong  Roll Advert  Save Settings  \\\n",
       "willBeChurned                                                              \n",
       "0              3.604955  1.145784  82.178405     1.271379        0.10802   \n",
       "1              3.726819  1.232614  81.120720     2.155403        0.12928   \n",
       "\n",
       "page           Settings  Submit Downgrade  Submit Upgrade  Thumbs Down  \\\n",
       "willBeChurned                                                            \n",
       "0              0.533242          0.023147        0.054439     0.878735   \n",
       "1              0.601819          0.020061        0.071327     1.105563   \n",
       "\n",
       "page           Thumbs Up   Upgrade  \n",
       "willBeChurned                       \n",
       "0               4.583137  0.165888  \n",
       "1               4.143634  0.249643  "
      ]
     },
     "execution_count": 43,
     "metadata": {},
     "output_type": "execute_result"
    }
   ],
   "source": [
    "# Show a pivot table to better visualize the data\n",
    "pd_churn_page.pivot(index='willBeChurned', columns='page', values='percentage')\n"
   ]
  },
  {
   "cell_type": "code",
   "execution_count": 44,
   "metadata": {},
   "outputs": [
    {
     "data": {
      "image/png": "[encoded data removed]",
      "text/plain": [
       "<Figure size 576x432 with 1 Axes>"
      ]
     },
     "metadata": {
      "needs_background": "light"
     },
     "output_type": "display_data"
    }
   ],
   "source": [
    "# Finally, use the newly created pandas data frame to create a comparison plot\n",
    "# to show a difference between a percentage of each page type by churn\n",
    "plt.figure(figsize=(8,6))\n",
    "\n",
    "sns.barplot(x='percentage', y='page', hue='willBeChurned', data=pd_churn_page);\n",
    "plt.title(\"Comparison of a percentage of event counts of each page type for events with/without churn\");"
   ]
  },
  {
   "cell_type": "markdown",
   "metadata": {},
   "source": [
    "### Inspect a number of songs played in each hour"
   ]
  },
  {
   "cell_type": "markdown",
   "metadata": {},
   "source": [
    "The plot below shows a similar trend between a number of songs played in each hour of events of users who are/are not churned"
   ]
  },
  {
   "cell_type": "code",
   "execution_count": 45,
   "metadata": {},
   "outputs": [],
   "source": [
    "# Creat an hour column by calculating Static hour using the 'ts' column\n",
    "get_hour = udf(lambda x: datetime.datetime.fromtimestamp(x / 1000.0).hour)\n",
    "df_valid = df_valid.withColumn('hour', get_hour('ts'))"
   ]
  },
  {
   "cell_type": "code",
   "execution_count": 46,
   "metadata": {},
   "outputs": [],
   "source": [
    "def plot_NumberOfSongsInHour(willBeChurned):\n",
    "    '''\n",
    "    Plot a number of songs in hour for events with the specified willBeChurned value\n",
    "    '''\n",
    "    \n",
    "    # Get a number of songs in hour for a particular data set\n",
    "    songs_in_hour = df_valid.filter(df_valid.willBeChurned == willBeChurned) \\\n",
    "        .groupby('hour') \\\n",
    "        .count() \\\n",
    "        .orderBy(df_valid.hour.cast(\"float\"))\n",
    "\n",
    "    \n",
    "    # Convert to pandas and create a scatter plot\n",
    "\n",
    "    pd_songs_in_hour = songs_in_hour.toPandas()\n",
    "    pd_songs_in_hour.hour = pd.to_numeric(pd_songs_in_hour.hour)\n",
    "\n",
    "    plt.scatter(pd_songs_in_hour[\"hour\"], pd_songs_in_hour[\"count\"]);\n",
    "    plt.xlim(-1, 24);\n",
    "    plt.ylim(0, 1.2 * pd_songs_in_hour[\"count\"].max())\n",
    "    plt.xlabel(\"Hour\")\n",
    "    plt.ylabel(\"Songs played\");"
   ]
  },
  {
   "cell_type": "code",
   "execution_count": 47,
   "metadata": {},
   "outputs": [
    {
     "data": {
      "image/png": "[encoded data removed]",
      "text/plain": [
       "<Figure size 432x288 with 1 Axes>"
      ]
     },
     "metadata": {
      "needs_background": "light"
     },
     "output_type": "display_data"
    }
   ],
   "source": [
    "# Create a scatter plot to inspect The number of songs in hours of events of not churned users\n",
    "plot_NumberOfSongsInHour(0)\n",
    "plt.title('The number of songs in hours of events of NOT churned users');"
   ]
  },
  {
   "cell_type": "code",
   "execution_count": 48,
   "metadata": {},
   "outputs": [
    {
     "data": {
      "image/png": "[encoded data removed]",
      "text/plain": [
       "<Figure size 432x288 with 1 Axes>"
      ]
     },
     "metadata": {
      "needs_background": "light"
     },
     "output_type": "display_data"
    }
   ],
   "source": [
    "# Create a scatter plot to inspect The number of songs in hours of events of not churned users\n",
    "plot_NumberOfSongsInHour(1)\n",
    "plt.title('The number of songs in hours of events of CHURNED users');"
   ]
  },
  {
   "cell_type": "markdown",
   "metadata": {},
   "source": [
    "### Inspect a ratio of each gender"
   ]
  },
  {
   "cell_type": "markdown",
   "metadata": {},
   "source": [
    "The data below shows that it is more likely for Male to be churned than a female"
   ]
  },
  {
   "cell_type": "code",
   "execution_count": 49,
   "metadata": {},
   "outputs": [],
   "source": [
    "df_gender = df_valid.select(\"userId\", \"gender\", 'willBeChurned') \\\n",
    "    .dropDuplicates() \\\n",
    "    .groupby('willBeChurned', 'gender') \\\n",
    "    .count() "
   ]
  },
  {
   "cell_type": "code",
   "execution_count": 50,
   "metadata": {},
   "outputs": [
    {
     "name": "stdout",
     "output_type": "stream",
     "text": [
      "+-------------+------+-----+\n",
      "|willBeChurned|gender|count|\n",
      "+-------------+------+-----+\n",
      "|            0|     F|   84|\n",
      "|            0|     M|   89|\n",
      "|            1|     F|   20|\n",
      "|            1|     M|   32|\n",
      "+-------------+------+-----+\n",
      "\n"
     ]
    }
   ],
   "source": [
    "df_gender.orderBy('willBeChurned', 'gender').show()"
   ]
  },
  {
   "cell_type": "code",
   "execution_count": 51,
   "metadata": {},
   "outputs": [],
   "source": [
    "pd_gender = df_gender.toPandas()"
   ]
  },
  {
   "cell_type": "code",
   "execution_count": 52,
   "metadata": {},
   "outputs": [
    {
     "data": {
      "text/html": [
       "<div>\n",
       "<style scoped>\n",
       "    .dataframe tbody tr th:only-of-type {\n",
       "        vertical-align: middle;\n",
       "    }\n",
       "\n",
       "    .dataframe tbody tr th {\n",
       "        vertical-align: top;\n",
       "    }\n",
       "\n",
       "    .dataframe thead th {\n",
       "        text-align: right;\n",
       "    }\n",
       "</style>\n",
       "<table border=\"1\" class=\"dataframe\">\n",
       "  <thead>\n",
       "    <tr style=\"text-align: right;\">\n",
       "      <th>gender</th>\n",
       "      <th>F</th>\n",
       "      <th>M</th>\n",
       "    </tr>\n",
       "    <tr>\n",
       "      <th>willBeChurned</th>\n",
       "      <th></th>\n",
       "      <th></th>\n",
       "    </tr>\n",
       "  </thead>\n",
       "  <tbody>\n",
       "    <tr>\n",
       "      <th>0</th>\n",
       "      <td>0.485549</td>\n",
       "      <td>0.514451</td>\n",
       "    </tr>\n",
       "    <tr>\n",
       "      <th>1</th>\n",
       "      <td>0.384615</td>\n",
       "      <td>0.615385</td>\n",
       "    </tr>\n",
       "  </tbody>\n",
       "</table>\n",
       "</div>"
      ],
      "text/plain": [
       "gender                F         M\n",
       "willBeChurned                    \n",
       "0              0.485549  0.514451\n",
       "1              0.384615  0.615385"
      ]
     },
     "execution_count": 52,
     "metadata": {},
     "output_type": "execute_result"
    }
   ],
   "source": [
    "pd_gender_pivot = pd_gender.pivot(index='willBeChurned', columns='gender', values='count')\n",
    "total_counts = pd_gender_pivot.sum(axis=1)\n",
    "pd_gender_pivot = pd_gender_pivot.div(total_counts, axis=0)\n",
    "pd_gender_pivot"
   ]
  },
  {
   "cell_type": "code",
   "execution_count": 53,
   "metadata": {},
   "outputs": [
    {
     "data": {
      "image/png": "[encoded data removed]",
      "text/plain": [
       "<Figure size 432x288 with 1 Axes>"
      ]
     },
     "metadata": {
      "needs_background": "light"
     },
     "output_type": "display_data"
    }
   ],
   "source": [
    "pd_gender_pivot.plot.barh();\n",
    "plt.title('Comparison of ratio of gender counts of users who are/are not churned');"
   ]
  },
  {
   "cell_type": "markdown",
   "metadata": {},
   "source": [
    "### Inspect session time"
   ]
  },
  {
   "cell_type": "markdown",
   "metadata": {},
   "source": [
    "The statistics of session time below shows that \n",
    "* The average of session time of users who are churned is around 283 minutes/session \n",
    "* The the average of session time of users who are NOT  churned is around 302 minutes/session"
   ]
  },
  {
   "cell_type": "code",
   "execution_count": 56,
   "metadata": {},
   "outputs": [],
   "source": [
    "# Filter data based on its willBeChurned status first \n",
    "df_churn = df_valid.filter('willBeChurned == 1')\n",
    "df_not_churn = df_valid.filter('willBeChurned == 0')"
   ]
  },
  {
   "cell_type": "code",
   "execution_count": 57,
   "metadata": {},
   "outputs": [],
   "source": [
    "def get_session_time(df, showSummary=False):\n",
    "    '''\n",
    "    Get a number of registration days of the given data\n",
    "    \n",
    "    Input Argument:\n",
    "        df:   Sparkify dataframe\n",
    "        \n",
    "    Optional Input Argument:\n",
    "        showSummary: Show summary statistics of the output data fram. Default is False.\n",
    "        \n",
    "    Output Argument:\n",
    "        df_sessionTime: Spark dataframe contains sessionTime information of each userId and sessionId\n",
    "    '''\n",
    "    \n",
    "    # Find a session time by grouping events by userId and sessionId\n",
    "    # and then find a difference between the min and max timestamp\n",
    "    df_sessionTime = df.groupby(\"userId\", \"sessionId\") \\\n",
    "        .agg(((max(df.ts)-min(df.ts))/(1000*60)) \\\n",
    "        .alias(\"sessionTime\"))\n",
    "    \n",
    "    if showSummary:\n",
    "        # Print the statistics\n",
    "        df_sessionTime.select('sessionTime').describe().show();\n",
    "\n",
    "        # Create a box plot\n",
    "        df_sessionTime.select('sessionTime').toPandas().boxplot();\n",
    "    \n",
    "    return df_sessionTime;\n",
    "    "
   ]
  },
  {
   "cell_type": "code",
   "execution_count": 58,
   "metadata": {},
   "outputs": [
    {
     "name": "stdout",
     "output_type": "stream",
     "text": [
      "+-------+------------------+\n",
      "|summary|       sessionTime|\n",
      "+-------+------------------+\n",
      "|  count|               537|\n",
      "|   mean|283.12153941651144|\n",
      "| stddev| 375.3192516301637|\n",
      "|    min|               0.0|\n",
      "|    max| 3300.016666666667|\n",
      "+-------+------------------+\n",
      "\n"
     ]
    },
    {
     "data": {
      "image/png": "[encoded data removed]",
      "text/plain": [
       "<Figure size 432x288 with 1 Axes>"
      ]
     },
     "metadata": {
      "needs_background": "light"
     },
     "output_type": "display_data"
    }
   ],
   "source": [
    "df_sessionTime_churn = get_session_time(df_churn, showSummary=True)\n",
    "plt.title('Distribution of session time of users who are churned');"
   ]
  },
  {
   "cell_type": "code",
   "execution_count": 59,
   "metadata": {},
   "outputs": [
    {
     "name": "stdout",
     "output_type": "stream",
     "text": [
      "+-------+------------------+\n",
      "|summary|       sessionTime|\n",
      "+-------+------------------+\n",
      "|  count|              2639|\n",
      "|   mean|302.85536187949987|\n",
      "| stddev| 393.2417448405121|\n",
      "|    min|               0.0|\n",
      "|    max| 4455.083333333333|\n",
      "+-------+------------------+\n",
      "\n"
     ]
    },
    {
     "data": {
      "image/png": "[encoded data removed]",
      "text/plain": [
       "<Figure size 432x288 with 1 Axes>"
      ]
     },
     "metadata": {
      "needs_background": "light"
     },
     "output_type": "display_data"
    }
   ],
   "source": [
    "df_sessionTime_not_churn = get_session_time(df_not_churn, showSummary=True)\n",
    "plt.title('Distribution of session time of users who are NOT churned');"
   ]
  },
  {
   "cell_type": "markdown",
   "metadata": {},
   "source": [
    "### Inspect a number of songs per session"
   ]
  },
  {
   "cell_type": "markdown",
   "metadata": {},
   "source": [
    "The statistics of session time below shows that \n",
    "* The average of songs played in each session of users who are churned is around 70 songs\n",
    "* The average of songs played in each session of users who are NOT churned is around 75 songs"
   ]
  },
  {
   "cell_type": "code",
   "execution_count": 60,
   "metadata": {},
   "outputs": [],
   "source": [
    "def get_songs_per_session(df, showSummary=False):\n",
    "    '''\n",
    "    Get a number of songs played in each userId and sessionId\n",
    "    \n",
    "    Input Argument:\n",
    "        df:   Sparkify dataframe\n",
    "        \n",
    "    Optional Input Argument:\n",
    "        showSummary: Show summary statistics of the output data fram. Default is False.\n",
    "        \n",
    "    Output Argument:\n",
    "        df_songs_per_session: Spark dataframe contains information of each userId and sessionId\n",
    "    '''\n",
    "    \n",
    "    # Filter only events with the \"NextSong\" page\n",
    "    # Then, group them by userId and sessionId and find the counts\n",
    "    df_songs_per_session = df.filter(df.page==\"NextSong\") \\\n",
    "        .groupby(\"userId\", \"sessionId\") \\\n",
    "        .count()\n",
    "    \n",
    "    if showSummary:\n",
    "        # Print the statistics\n",
    "        df_songs_per_session.select('count').describe().show();\n",
    "\n",
    "        # Create a box plot\n",
    "        df_songs_per_session.select('count').toPandas().boxplot();\n",
    "    \n",
    "    return df_songs_per_session;\n",
    "\n"
   ]
  },
  {
   "cell_type": "code",
   "execution_count": 61,
   "metadata": {},
   "outputs": [
    {
     "name": "stdout",
     "output_type": "stream",
     "text": [
      "+-------+-----------------+\n",
      "|summary|            count|\n",
      "+-------+-----------------+\n",
      "|  count|              519|\n",
      "|   mean| 70.1233140655106|\n",
      "| stddev|88.76147060464491|\n",
      "|    min|                1|\n",
      "|    max|              708|\n",
      "+-------+-----------------+\n",
      "\n"
     ]
    },
    {
     "data": {
      "image/png": "[encoded data removed]",
      "text/plain": [
       "<Figure size 432x288 with 1 Axes>"
      ]
     },
     "metadata": {
      "needs_background": "light"
     },
     "output_type": "display_data"
    }
   ],
   "source": [
    "df_songs_per_session_churn = get_songs_per_session(df_churn, showSummary=True);\n",
    "plt.title('Distribution of a number of songs per session of users who are churned');"
   ]
  },
  {
   "cell_type": "code",
   "execution_count": 62,
   "metadata": {},
   "outputs": [
    {
     "name": "stdout",
     "output_type": "stream",
     "text": [
      "+-------+-----------------+\n",
      "|summary|            count|\n",
      "+-------+-----------------+\n",
      "|  count|             2552|\n",
      "|   mean| 75.1230407523511|\n",
      "| stddev|94.27929882985644|\n",
      "|    min|                1|\n",
      "|    max|             1093|\n",
      "+-------+-----------------+\n",
      "\n"
     ]
    },
    {
     "data": {
      "image/png": "[encoded data removed]",
      "text/plain": [
       "<Figure size 432x288 with 1 Axes>"
      ]
     },
     "metadata": {
      "needs_background": "light"
     },
     "output_type": "display_data"
    }
   ],
   "source": [
    "df_songs_per_session_not_churn = get_songs_per_session(df_not_churn, showSummary=True)\n",
    "plt.title('Distribution of a number of songs per session of users who are churned');"
   ]
  },
  {
   "cell_type": "markdown",
   "metadata": {},
   "source": [
    "### Inspect a number of registration days"
   ]
  },
  {
   "cell_type": "markdown",
   "metadata": {},
   "source": [
    "The data below shows that a number of registration days of users who are churned are around 57 days"
   ]
  },
  {
   "cell_type": "code",
   "execution_count": 63,
   "metadata": {},
   "outputs": [],
   "source": [
    "def get_user_reg_days(df, showSummary=False):\n",
    "    '''\n",
    "    Get a number of registration days of the given data\n",
    "    \n",
    "    Input Argument:\n",
    "        df:   Sparkify dataframe\n",
    "        \n",
    "    Optional Input Argument:\n",
    "        showSummary: Show summary statistics of the output data fram. Default is False.\n",
    "        \n",
    "    Output Argument:\n",
    "        user_reg_days: Spark dataframe contains information of a number of registration days\n",
    "    '''\n",
    "    \n",
    "    # Get a max timestamp of each ID first\n",
    "    user_max_ts = df.groupby(\"userId\").max(\"ts\").sort(\"userId\")\n",
    "\n",
    "    # Get the registration timestamp. We only need to get it from the first data \n",
    "    # since they will all be the same\n",
    "    user_reg_ts = df.select(\"userId\", \"registration\").dropDuplicates().sort(\"userId\")\n",
    "\n",
    "    # Join the max timestamp and registration timestamp table\n",
    "    join_reg_max_ts = user_reg_ts.join(user_max_ts, (user_reg_ts.userId == user_max_ts.userId))\n",
    "\n",
    "    # Then, select\n",
    "    # 1) The userId column\n",
    "    # 2) Computed a number of registration days from the max and registration columns\n",
    "    user_reg_days = join_reg_max_ts.select(user_reg_ts[\"userId\"], \n",
    "                                           ((user_max_ts[\"max(ts)\"]-user_reg_ts[\"registration\"])/(1000*60*60*24))\n",
    "                                            .alias(\"NumRegDays\"))\n",
    "    \n",
    "    if showSummary:\n",
    "        # Print the statistics\n",
    "        user_reg_days.select('NumRegDays').describe().show();\n",
    "\n",
    "        # Create a boxplot of the statistics\n",
    "        user_reg_days.select('NumRegDays').toPandas().boxplot();\n",
    "\n",
    "    return user_reg_days"
   ]
  },
  {
   "cell_type": "code",
   "execution_count": 64,
   "metadata": {},
   "outputs": [
    {
     "name": "stdout",
     "output_type": "stream",
     "text": [
      "+-------+-----------------+\n",
      "|summary|       NumRegDays|\n",
      "+-------+-----------------+\n",
      "|  count|               52|\n",
      "|   mean|57.30599292200857|\n",
      "| stddev| 36.6331481313374|\n",
      "|    min|5.165115740740741|\n",
      "|    max|188.3117824074074|\n",
      "+-------+-----------------+\n",
      "\n"
     ]
    },
    {
     "data": {
      "image/png": "[encoded data removed]",
      "text/plain": [
       "<Figure size 432x288 with 1 Axes>"
      ]
     },
     "metadata": {
      "needs_background": "light"
     },
     "output_type": "display_data"
    }
   ],
   "source": [
    "# Get a number of registration days and statistics of users who are churned\n",
    "user_reg_days = get_user_reg_days(df_churn, showSummary=True)\n",
    "plt.title('The number of registration days of users who are churned ');"
   ]
  },
  {
   "cell_type": "code",
   "execution_count": 65,
   "metadata": {},
   "outputs": [
    {
     "name": "stdout",
     "output_type": "stream",
     "text": [
      "+-------+-------------------+\n",
      "|summary|         NumRegDays|\n",
      "+-------+-------------------+\n",
      "|  count|                173|\n",
      "|   mean|  86.62061938021833|\n",
      "| stddev|  35.34864197873643|\n",
      "|    min|0.31372685185185184|\n",
      "|    max|  256.3776736111111|\n",
      "+-------+-------------------+\n",
      "\n"
     ]
    },
    {
     "data": {
      "text/plain": [
       "Text(0.5, 1.0, 'The number of registration days of users who are churned ')"
      ]
     },
     "execution_count": 65,
     "metadata": {},
     "output_type": "execute_result"
    },
    {
     "data": {
      "image/png": "[encoded data removed]",
      "text/plain": [
       "<Figure size 432x288 with 1 Axes>"
      ]
     },
     "metadata": {
      "needs_background": "light"
     },
     "output_type": "display_data"
    }
   ],
   "source": [
    "# Get a number of registration days and statistics of users who are NOT churned\n",
    "user_reg_days = get_user_reg_days(df_not_churn, showSummary=True)\n",
    "plt.title('The number of registration days of users who are churned ')"
   ]
  },
  {
   "cell_type": "markdown",
   "metadata": {},
   "source": [
    "### Inspect the last level"
   ]
  },
  {
   "cell_type": "markdown",
   "metadata": {},
   "source": [
    "The data below shows that a ratio of free/paid users who are/are not churned are similar (around 55/45)"
   ]
  },
  {
   "cell_type": "code",
   "execution_count": 66,
   "metadata": {},
   "outputs": [],
   "source": [
    "def get_user_level(df, showSummary=False):\n",
    "    '''\n",
    "    Get data of the last user level (paid/free) of a given data\n",
    "    \n",
    "    Input Argument:\n",
    "        df:   Sparkify dataframe\n",
    "    \n",
    "    Optional Input Argument:\n",
    "        showSummary: Show summary statistics of the output data fram. Default is False.\n",
    "        \n",
    "    Output Argument:\n",
    "        user_reg_days: Spark dataframe contains data of the last user level (paid/free) of a given data\n",
    "    '''\n",
    "    \n",
    "    # Get a max timestamp of each ID first\n",
    "    user_max_ts = df.groupby(\"userId\").max(\"ts\").sort(\"userId\")\n",
    "\n",
    "    # Get the registration timestamp. We only need to get it from the first data \n",
    "    # since they will all be the same\n",
    "    user_level = df.select(\"userId\", \"level\").dropDuplicates()\n",
    "    \n",
    "    \n",
    "    if showSummary:\n",
    "        # we will show a summary of counts grouped by 'level' here\n",
    "        total_user_level = user_level.count()\n",
    "\n",
    "        group_level = user_level.groupby('level').count()\n",
    "        get_ratio = udf(lambda x: x*1.0/total_user_level, FloatType())\n",
    "        df_level = group_level.withColumn('ratio', get_ratio(\"count\"))\n",
    "        df_level.show()\n",
    "    \n",
    "    return user_level;"
   ]
  },
  {
   "cell_type": "code",
   "execution_count": 67,
   "metadata": {},
   "outputs": [
    {
     "name": "stdout",
     "output_type": "stream",
     "text": [
      "+-----+-----+---------+\n",
      "|level|count|    ratio|\n",
      "+-----+-----+---------+\n",
      "| free|   46|0.5609756|\n",
      "| paid|   36|0.4390244|\n",
      "+-----+-----+---------+\n",
      "\n"
     ]
    },
    {
     "data": {
      "text/plain": [
       "DataFrame[userId: string, level: string]"
      ]
     },
     "execution_count": 67,
     "metadata": {},
     "output_type": "execute_result"
    }
   ],
   "source": [
    "# Get a number of last level of users who are churned\n",
    "get_user_level(df_churn, showSummary=True)"
   ]
  },
  {
   "cell_type": "code",
   "execution_count": 68,
   "metadata": {},
   "outputs": [
    {
     "name": "stdout",
     "output_type": "stream",
     "text": [
      "+-----+-----+----------+\n",
      "|level|count|     ratio|\n",
      "+-----+-----+----------+\n",
      "| free|  149| 0.5359712|\n",
      "| paid|  129|0.46402878|\n",
      "+-----+-----+----------+\n",
      "\n"
     ]
    },
    {
     "data": {
      "text/plain": [
       "DataFrame[userId: string, level: string]"
      ]
     },
     "execution_count": 68,
     "metadata": {},
     "output_type": "execute_result"
    }
   ],
   "source": [
    "# Get a number of last level of users who are NOT churned\n",
    "get_user_level(df_not_churn, showSummary=True)"
   ]
  },
  {
   "cell_type": "markdown",
   "metadata": {},
   "source": [
    "# Feature Engineering\n",
    "Once you've familiarized yourself with the data, build out the features you find promising to train your model on. To work with the full dataset, you can follow the following steps.\n",
    "- Write a script to extract the necessary features from the smaller subset of data\n",
    "- Ensure that your script is scalable, using the best practices discussed in Lesson 3\n",
    "- Try your script on the full data set, debugging your script if necessary\n",
    "\n",
    "If you are working in the classroom workspace, you can just extract features based on the small subset of data contained here. Be sure to transfer over this work to the larger dataset when you work on your Spark cluster."
   ]
  },
  {
   "cell_type": "markdown",
   "metadata": {},
   "source": [
    "Based on the Exploratory Data Analysis (EDA) above, we will use the following information to create features that will be used to train our model:\n",
    "* Gender of the user\n",
    "* Average session time of each user\n",
    "* Average number of songs played in each session of each user\n",
    "* How long the user has been registered\n",
    "* The last level (paid/free)"
   ]
  },
  {
   "cell_type": "markdown",
   "metadata": {},
   "source": [
    "**Gender of the user**\n"
   ]
  },
  {
   "cell_type": "code",
   "execution_count": 69,
   "metadata": {},
   "outputs": [
    {
     "data": {
      "text/plain": [
       "Row(userId='10', gender_index=1)"
      ]
     },
     "execution_count": 69,
     "metadata": {},
     "output_type": "execute_result"
    }
   ],
   "source": [
    "# Drop duplicate first because the gender information will not be changed\n",
    "df_gender = df_valid.dropDuplicates(['userId']).sort('userId').select(['userId','gender'])\n",
    "\n",
    "# Then, use StringIndexerModel to create an index for gender\n",
    "\n",
    "fromlabelsModel = StringIndexerModel.from_labels([\"F\", \"M\"], \\\n",
    "    inputCol=\"gender\", outputCol=\"gender_index\", handleInvalid=\"error\")\n",
    "df_gender = fromlabelsModel.transform(df_gender)\n",
    "\n",
    "# Only extracted interested columns\n",
    "df_gender = df_gender.select('userId', df_gender.gender_index.cast(\"int\"))\n",
    "df_gender.head()"
   ]
  },
  {
   "cell_type": "markdown",
   "metadata": {},
   "source": [
    "**Average session time of each user**\n"
   ]
  },
  {
   "cell_type": "code",
   "execution_count": 70,
   "metadata": {},
   "outputs": [],
   "source": [
    "def scale_column_with_StandardScaler(df, column_name):\n",
    "    '''\n",
    "    Scale the specified column name with the StandardScaler\n",
    "    \n",
    "    Input arguments:\n",
    "        df:           Spark dataframe\n",
    "        column_name:  Column name with numerical value to be scaled with the StandardScaler\n",
    "    \n",
    "    Output argument:\n",
    "        df_scaled:    New Spark dataframe with the \"<column_name>_vec\" and \"<column_name>_scaled\" columns\n",
    "    '''\n",
    "    \n",
    "    # Create a vector of sessionTime first before scaling it\n",
    "    column_vec = column_name + '_vec'\n",
    "    assembler = VectorAssembler(inputCols=[column_name], outputCol=column_vec)\n",
    "    df_scaled = assembler.transform(df)\n",
    "\n",
    "    # Use the StandardScale to scale the session time\n",
    "    column_scaled = column_name + '_scaled'\n",
    "    scaler = StandardScaler(inputCol=column_vec, \n",
    "                            outputCol=column_scaled, \n",
    "                            withStd=True)\n",
    "\n",
    "    # Then, select only the interested columns\n",
    "    df_scaled = scaler.fit(df_scaled).transform(df_scaled)\n",
    "    \n",
    "    return df_scaled;\n",
    "    "
   ]
  },
  {
   "cell_type": "code",
   "execution_count": 71,
   "metadata": {},
   "outputs": [],
   "source": [
    "def get_avg_column_by_user(df, column_name):\n",
    "    '''\n",
    "    Get average values of a particular column grouped by userId\n",
    "    \n",
    "    Input argument:\n",
    "    df :  Sparkify dataframe\n",
    "    column_name: The interested column name that we want to get average values for\n",
    "    \n",
    "    Output argument:\n",
    "    df_avg: Spark dataframe with average values information stored in a column \"avg_<column_name>\"\"\n",
    "    '''\n",
    "    df_avg = df.groupby('userId') \\\n",
    "                .agg(avg(column_name)) \\\n",
    "                .select('userId', col('avg(' + column_name + ')').alias('avg_' + column_name))\n",
    "    \n",
    "    return df_avg\n",
    "    "
   ]
  },
  {
   "cell_type": "code",
   "execution_count": 72,
   "metadata": {},
   "outputs": [],
   "source": [
    "# Find the average session time first\n",
    "df_sessionTime = get_session_time(df_valid)\n",
    "df_sessionTime_avg = get_avg_column_by_user(df_sessionTime, 'sessionTime')\n"
   ]
  },
  {
   "cell_type": "code",
   "execution_count": 73,
   "metadata": {},
   "outputs": [
    {
     "name": "stdout",
     "output_type": "stream",
     "text": [
      "+------+------------------+\n",
      "|userId|   avg_sessionTime|\n",
      "+------+------------------+\n",
      "|100010|154.48333333333332|\n",
      "|200002|266.40000000000003|\n",
      "|   125|29.566666666666666|\n",
      "|    51| 872.3566666666666|\n",
      "|   124| 578.9942528735633|\n",
      "+------+------------------+\n",
      "only showing top 5 rows\n",
      "\n"
     ]
    }
   ],
   "source": [
    "# Inspect the results\n",
    "df_sessionTime_avg.show(5)"
   ]
  },
  {
   "cell_type": "code",
   "execution_count": 74,
   "metadata": {},
   "outputs": [],
   "source": [
    "# Then, scaled it\n",
    "df_sessionTime_avg_scaled = scale_column_with_StandardScaler(df_sessionTime_avg, 'avg_sessionTime')\n",
    "df_sessionTime_avg_scaled = df_sessionTime_avg_scaled.select('userId', 'avg_sessionTime_scaled')\n"
   ]
  },
  {
   "cell_type": "code",
   "execution_count": 75,
   "metadata": {},
   "outputs": [
    {
     "name": "stdout",
     "output_type": "stream",
     "text": [
      "+------+----------------------+\n",
      "|userId|avg_sessionTime_scaled|\n",
      "+------+----------------------+\n",
      "|100010|  [0.8735647913871121]|\n",
      "|200002|   [1.506425679742324]|\n",
      "|   125|  [0.16719213938081...|\n",
      "|    51|   [4.932959776880935]|\n",
      "|   124|   [3.274068359429266]|\n",
      "+------+----------------------+\n",
      "only showing top 5 rows\n",
      "\n"
     ]
    }
   ],
   "source": [
    "# Inspect the result\n",
    "df_sessionTime_avg_scaled.show(5)"
   ]
  },
  {
   "cell_type": "markdown",
   "metadata": {},
   "source": [
    "**Average number of songs played in each session of each user**"
   ]
  },
  {
   "cell_type": "code",
   "execution_count": 76,
   "metadata": {},
   "outputs": [],
   "source": [
    "# Get data of a number of songs per session\n",
    "df_song = get_songs_per_session(df_valid)"
   ]
  },
  {
   "cell_type": "code",
   "execution_count": 77,
   "metadata": {},
   "outputs": [],
   "source": [
    "# Get an average number of songs per session of each userId\n",
    "df_song_avg = get_avg_column_by_user(df_song, 'count')\n",
    "# Rename the column to be more specific\n",
    "df_song_avg = df_song.select('userId', col('count').alias('num_songs'))"
   ]
  },
  {
   "cell_type": "code",
   "execution_count": 78,
   "metadata": {},
   "outputs": [],
   "source": [
    "# Then, scale data in the 'num_songs' column with the StandardScaler\n",
    "df_song_avg_scaled = scale_column_with_StandardScaler(df_song_avg, 'num_songs')\n",
    "\n",
    "# And only select the userId and the scaled column\n",
    "df_song_avg_scaled = df_song_avg_scaled.select('userId', 'num_songs_scaled')"
   ]
  },
  {
   "cell_type": "code",
   "execution_count": 79,
   "metadata": {},
   "outputs": [
    {
     "name": "stdout",
     "output_type": "stream",
     "text": [
      "+------+--------------------+\n",
      "|userId|    num_songs_scaled|\n",
      "+------+--------------------+\n",
      "|    92|[0.6104453670311931]|\n",
      "|    42|[0.17135308548244...|\n",
      "|   101| [7.582374032597977]|\n",
      "|   120|[2.5274580108659923]|\n",
      "|   140|[0.03212870352795...|\n",
      "+------+--------------------+\n",
      "only showing top 5 rows\n",
      "\n"
     ]
    }
   ],
   "source": [
    "# Inspect the data\n",
    "df_song_avg_scaled.show(5)\n"
   ]
  },
  {
   "cell_type": "markdown",
   "metadata": {},
   "source": [
    "**How long the user has been registered**\n"
   ]
  },
  {
   "cell_type": "code",
   "execution_count": 80,
   "metadata": {},
   "outputs": [],
   "source": [
    "# Get data of a number of days since each user registered\n",
    "df_reg_days = get_user_reg_days(df_valid)"
   ]
  },
  {
   "cell_type": "code",
   "execution_count": 81,
   "metadata": {},
   "outputs": [],
   "source": [
    "# Then, scale it with the StandardScaler\n",
    "df_reg_days_scaled = scale_column_with_StandardScaler(df_reg_days, 'NumRegDays')\n",
    "df_reg_days_scaled = df_reg_days_scaled.select('userId', 'NumRegDays_scaled')\n"
   ]
  },
  {
   "cell_type": "code",
   "execution_count": 82,
   "metadata": {},
   "outputs": [
    {
     "name": "stdout",
     "output_type": "stream",
     "text": [
      "+------+--------------------+\n",
      "|userId|   NumRegDays_scaled|\n",
      "+------+--------------------+\n",
      "|100010|[1.4774690786076048]|\n",
      "|200002| [1.860645099487574]|\n",
      "|   125|[1.8936299230706823]|\n",
      "|   124|[3.4931168190417434]|\n",
      "|    51|[0.5165981279485958]|\n",
      "+------+--------------------+\n",
      "only showing top 5 rows\n",
      "\n"
     ]
    }
   ],
   "source": [
    "# Inspect the data\n",
    "df_reg_days_scaled.show(5)"
   ]
  },
  {
   "cell_type": "markdown",
   "metadata": {},
   "source": [
    "**The last level (paid/free)**"
   ]
  },
  {
   "cell_type": "code",
   "execution_count": 83,
   "metadata": {},
   "outputs": [],
   "source": [
    "# Get data of the last level of each user\n",
    "df_level = get_user_level(df_valid)"
   ]
  },
  {
   "cell_type": "code",
   "execution_count": 84,
   "metadata": {},
   "outputs": [],
   "source": [
    "# Then, transform it\n",
    "\n",
    "fromlabelsModel = StringIndexerModel.from_labels([\"free\", \"paid\"], \\\n",
    "    inputCol=\"level\", outputCol=\"level_index\", handleInvalid=\"error\")\n",
    "df_level = fromlabelsModel.transform(df_level)\n",
    "\n",
    "# Only extracted interested columns\n",
    "df_level = df_level.select('userId', df_level.level_index.cast(\"int\"))\n"
   ]
  },
  {
   "cell_type": "code",
   "execution_count": 85,
   "metadata": {},
   "outputs": [
    {
     "name": "stdout",
     "output_type": "stream",
     "text": [
      "+------+-----------+\n",
      "|userId|level_index|\n",
      "+------+-----------+\n",
      "|100021|          0|\n",
      "|200021|          0|\n",
      "|200001|          0|\n",
      "|     6|          0|\n",
      "|300022|          1|\n",
      "+------+-----------+\n",
      "only showing top 5 rows\n",
      "\n"
     ]
    }
   ],
   "source": [
    "# Inspect data\n",
    "df_level.show(5)"
   ]
  },
  {
   "cell_type": "markdown",
   "metadata": {},
   "source": [
    "After transforming/scaling the interested columns, join them with dataframe with the churn dataframe using the 'userId' column"
   ]
  },
  {
   "cell_type": "code",
   "execution_count": 86,
   "metadata": {},
   "outputs": [],
   "source": [
    "# Create the label (churn) data first\n",
    "df_combined = df_valid.dropDuplicates(['userId']) \\\n",
    "                .sort('userId') \\\n",
    "                .select(['userId', col('willBeChurned').alias('label').cast(\"int\")])\n"
   ]
  },
  {
   "cell_type": "code",
   "execution_count": 87,
   "metadata": {},
   "outputs": [],
   "source": [
    "# Iterate through each data frame that we created earlier and joining them with the label dataframe\n",
    "feature_list = [    \n",
    "    df_gender, \n",
    "    df_sessionTime_avg_scaled, \n",
    "    df_song_avg_scaled, \n",
    "    df_reg_days_scaled, \n",
    "    df_level\n",
    "]\n",
    "\n",
    "for feature in feature_list:\n",
    "    df_combined = df_combined.join(feature,'userId')"
   ]
  },
  {
   "cell_type": "code",
   "execution_count": 88,
   "metadata": {},
   "outputs": [
    {
     "name": "stdout",
     "output_type": "stream",
     "text": [
      "root\n",
      " |-- userId: string (nullable = true)\n",
      " |-- label: integer (nullable = true)\n",
      " |-- gender_index: integer (nullable = true)\n",
      " |-- avg_sessionTime_scaled: vector (nullable = true)\n",
      " |-- num_songs_scaled: vector (nullable = true)\n",
      " |-- NumRegDays_scaled: vector (nullable = true)\n",
      " |-- level_index: integer (nullable = true)\n",
      "\n"
     ]
    }
   ],
   "source": [
    "# Inspect the schema of the combined data frame first\n",
    "df_combined.printSchema()"
   ]
  },
  {
   "cell_type": "markdown",
   "metadata": {},
   "source": [
    "Now, let's create a dataframe that will be used in the modeling step by \n",
    "1. Combining values in the feature columns into a single DenseVector and named it 'features'\n",
    "2. Create a data frame 'df_final' by selecting only the 'features' and 'label' columns"
   ]
  },
  {
   "cell_type": "code",
   "execution_count": 89,
   "metadata": {},
   "outputs": [],
   "source": [
    "assembler = VectorAssembler(inputCols=df_combined.columns[2:-1], outputCol=\"features\")\n",
    "df_combined = assembler.transform(df_combined)"
   ]
  },
  {
   "cell_type": "code",
   "execution_count": 90,
   "metadata": {},
   "outputs": [
    {
     "data": {
      "text/plain": [
       "Row(userId='100010', label=0, gender_index=0, avg_sessionTime_scaled=DenseVector([0.8736]), num_songs_scaled=DenseVector([0.8568]), NumRegDays_scaled=DenseVector([1.4775]), level_index=0, features=DenseVector([0.0, 0.8736, 0.8568, 1.4775]))"
      ]
     },
     "execution_count": 90,
     "metadata": {},
     "output_type": "execute_result"
    }
   ],
   "source": [
    "df_combined.head()"
   ]
  },
  {
   "cell_type": "code",
   "execution_count": 91,
   "metadata": {},
   "outputs": [],
   "source": [
    "df_final = df_combined.select('features', 'label')"
   ]
  },
  {
   "cell_type": "code",
   "execution_count": 92,
   "metadata": {},
   "outputs": [
    {
     "name": "stdout",
     "output_type": "stream",
     "text": [
      "+--------------------+-----+\n",
      "|            features|label|\n",
      "+--------------------+-----+\n",
      "|[0.0,0.8735647913...|    0|\n",
      "|[0.0,0.8735647913...|    0|\n",
      "|[0.0,0.8735647913...|    0|\n",
      "|[0.0,0.8735647913...|    0|\n",
      "|[0.0,0.8735647913...|    0|\n",
      "+--------------------+-----+\n",
      "only showing top 5 rows\n",
      "\n"
     ]
    }
   ],
   "source": [
    "df_final.show(5)"
   ]
  },
  {
   "cell_type": "markdown",
   "metadata": {},
   "source": [
    "# Modeling\n",
    "Split the full dataset into train, test, and validation sets. Test out several of the machine learning methods you learned. Evaluate the accuracy of the various models, tuning parameters as necessary. Determine your winning model based on test accuracy and report results on the validation set. Since the churned users are a fairly small subset, I suggest using F1 score as the metric to optimize."
   ]
  },
  {
   "cell_type": "markdown",
   "metadata": {},
   "source": [
    "First, let's split the data set into 80% of training data and set aside 20%. Set random seed to 42."
   ]
  },
  {
   "cell_type": "code",
   "execution_count": 94,
   "metadata": {},
   "outputs": [],
   "source": [
    "train, test = df_final.randomSplit([0.8, 0.2], seed=42)"
   ]
  },
  {
   "cell_type": "markdown",
   "metadata": {},
   "source": [
    "**LogisticRegression**"
   ]
  },
  {
   "cell_type": "markdown",
   "metadata": {},
   "source": [
    "Let's first start with the LogisticRegression"
   ]
  },
  {
   "cell_type": "code",
   "execution_count": 95,
   "metadata": {},
   "outputs": [],
   "source": [
    "lr =  LogisticRegression()"
   ]
  },
  {
   "cell_type": "code",
   "execution_count": 96,
   "metadata": {},
   "outputs": [],
   "source": [
    "# Since we already transform data in the previous step, \n",
    "# we will not need to do it in the pipeline\n",
    "\n",
    "pipeline = Pipeline(stages=[lr])"
   ]
  },
  {
   "cell_type": "code",
   "execution_count": 98,
   "metadata": {},
   "outputs": [],
   "source": [
    "# Then, create a ParamGridBuilder\n",
    "paramGrid = ParamGridBuilder() \\\n",
    "    .addGrid(lr.elasticNetParam,[0.0, 0.5, 1.0]) \\\n",
    "    .addGrid(lr.regParam,[0.0, 0.01, 0.1]) \\\n",
    "    .build()\n",
    "\n",
    "# And use pipeline and paramGrid to construct a CrossValidator object\n",
    "crossval = CrossValidator(estimator=pipeline,\n",
    "                          estimatorParamMaps=paramGrid,\n",
    "                          evaluator=BinaryClassificationEvaluator(),\n",
    "                          numFolds=3)"
   ]
  },
  {
   "cell_type": "code",
   "execution_count": null,
   "metadata": {},
   "outputs": [],
   "source": [
    "# Fit with the train data\n",
    "print('[{}] Start'.format(datetime.datetime.now()))\n",
    "\n",
    "cvModel_q1 = crossval.fit(train)\n",
    "\n",
    "print('[{}] Done'.format(datetime.datetime.now()))"
   ]
  },
  {
   "cell_type": "code",
   "execution_count": null,
   "metadata": {},
   "outputs": [],
   "source": [
    "# Find the average metrics\n",
    "cvModel_q1.avgMetrics"
   ]
  },
  {
   "cell_type": "code",
   "execution_count": null,
   "metadata": {},
   "outputs": [],
   "source": [
    "# Now, get a predicted value of the test data\n",
    "results = cvModel_q1.transform(test)"
   ]
  },
  {
   "cell_type": "code",
   "execution_count": null,
   "metadata": {},
   "outputs": [],
   "source": [
    "# Next, check the accuracy of the results\n",
    "print(results.filter(results.label == results.prediction).count())\n",
    "print(results.count())"
   ]
  },
  {
   "cell_type": "markdown",
   "metadata": {},
   "source": [
    "# Final Steps\n",
    "Clean up your code, adding comments and renaming variables to make the code easier to read and maintain. Refer to the Spark Project Overview page and Data Scientist Capstone Project Rubric to make sure you are including all components of the capstone project and meet all expectations. Remember, this includes thorough documentation in a README file in a Github repository, as well as a web app or blog post."
   ]
  },
  {
   "cell_type": "code",
   "execution_count": null,
   "metadata": {},
   "outputs": [],
   "source": []
  }
 ],
 "metadata": {
  "kernelspec": {
   "display_name": "Python 3",
   "language": "python",
   "name": "python3"
  },
  "language_info": {
   "codemirror_mode": {
    "name": "ipython",
    "version": 3
   },
   "file_extension": ".py",
   "mimetype": "text/x-python",
   "name": "python",
   "nbconvert_exporter": "python",
   "pygments_lexer": "ipython3",
   "version": "3.6.8"
  }
 },
 "nbformat": 4,
 "nbformat_minor": 2
}
